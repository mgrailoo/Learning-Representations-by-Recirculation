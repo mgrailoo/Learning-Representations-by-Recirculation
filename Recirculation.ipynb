{
 "cells": [
  {
   "cell_type": "markdown",
   "id": "b68ee275",
   "metadata": {},
   "source": [
    "## Learning Representations by Recirculation\n",
    "\n",
    "Recirculation algorithms are a class of learning algorithms that use locality in time in their local learning rules as one example of a broader theme of how time may be used in *physical neural systems*. The key idea behind it is to trade off space for time, using differences in the activations of the same units at different times to drive the learning. Thus, in general, learning rules are typically polynomial in the local variables, the product of a presynaptic and a postsynaptic term (simple Hebbian rule), and where the postsynaptic term may be a difference between two activations taken over a relatively short time window.\n",
    "\n",
    "Recirculation algorithms can be applied to the circular autoencoders. In the architecture of a circular autoencoder, the output units are identical (or spatially very close) to the input units. Therefore, recirculation algorithms recirculate information, i.e., propagate information, through the circular autoencoder over more than one full cycle and use information from different cycles to update the weights. Typically, earlier cycles are used as targets for later cycles, as information degrades with recirculation [Baldi, P. (2021). Deep Learning in Science. Cambridge: Cambridge University Press].\n",
    "\n",
    "\n"
   ]
  },
  {
   "cell_type": "markdown",
   "id": "e20af82e",
   "metadata": {},
   "source": [
    "#### Python implementation of Hinton's recirculation algorithm for training autoencoders\n",
    "<br>\n",
    "The following code is a Python implementation of Hinton's recirculation algorithm for the circular autoencoders in [Hinton, Geoffrey E., and James McClelland, \"Learning representations by recirculation.\" Neural Information Processing Systems, 1987]\n",
    "<br>\n",
    "\n",
    "In the code, the output of the circular autoencoder is recirculated to the other layers. We will focus primarily on the first two cycles indexed by t = 0 and t = 1. It is also possible to recirculate output information over multiple cycles.\n",
    "The following drawing shows the assigned variables to weights (i.e., W), states (i.e., y), time (i.e., t), and place (i.e., p) are being shown while states of the visible and hidden units exploded in time and place. y is a variable for states in which the first dimension of y keeps the place order (i.e., two layers) and the second dimension keeps the time order (two cycles).\n",
    "\n",
    "In the class of ReCrcl, the method of recrcl_passes perfrom two passes and weight updates. In the first pass, the original visible vector is passed around the loop. In the second pass, an average of the original vector and the reconstructed vector is passed around the loop. For updating weights, weights are updated by an amount proportional to the product of the \"presynaptic\" activity and the difference in the post-synaptic activity on the two passes. Finally, the method returns the reconstruction error, which is the difference between the original and the reconstructed visible vectors. The other function in this class, called encode_pass, returns the hidden code for the particular layer and the reconstructed output.\n",
    "<br>\n",
    "<br>\n",
    "\n",
    "<img src=\"./ab.png\" style=\"width:600px;\"/>"
   ]
  },
  {
   "cell_type": "code",
   "execution_count": 2,
   "id": "71f9a608",
   "metadata": {},
   "outputs": [],
   "source": [
    "# adding required libraries\n",
    "import numpy as np\n",
    "import matplotlib.pyplot as plt\n",
    "%matplotlib inline\n",
    "np.random.seed(42)"
   ]
  },
  {
   "cell_type": "code",
   "execution_count": 3,
   "id": "a2229cdf",
   "metadata": {},
   "outputs": [],
   "source": [
    "# Building recirculation class\n",
    "class ReCrcl:\n",
    "    def __init__(self, num_nrns, actv_fncs, lamda , eps ):\n",
    "        \n",
    "        self.num_nrns_ = np.array(num_nrns)\n",
    "        self.actv_fncs_=np.array(actv_fncs)\n",
    "        self.num_lyrs_ = len(self.num_nrns_)\n",
    "        self.lamda_ = np.array(lamda)\n",
    "        self.eps_=np.array(eps)\n",
    "        # weight initialization with small random values uniformly distributed in the range of -0.5 to +0.5.\n",
    "        self.wghts_ = []       \n",
    "        for i in range(self.num_lyrs_):\n",
    "            self.wghts_.append(np.random.random((self.num_nrns_[i] + 1, self.num_nrns_[(i+1)%(self.num_lyrs_)])) - 0.5)\n",
    "              \n",
    "    def recrcl_passes(self, inpts):\n",
    "        # the first dimention of y keeps the place order (i.e. two layers) and \n",
    "        # the second dimention keep the time order (two time slots for each layer)\n",
    "        y = []\n",
    "        for i in self.num_nrns_:\n",
    "            y.append(np.ones((2, inpts.shape[0], i + 1)))\n",
    "        \n",
    "        # First pass:original visible vector is passed around the loop\n",
    "        y[0][0,:, :-1] = inpts\n",
    "        for i in range(self.num_lyrs_ - 1):\n",
    "            y[i+1][0, :, :-1] = self.actv_fncs_[i](y[i][0,:,  :] @ self.wghts_[i])\n",
    "            \n",
    "        # Second pass: an average of the original vector and the reconstructed vector is passed around the loop\n",
    "        y[0][1, :, :-1] = self.lamda_[0] * y[0][0, :, :-1]+(1 - self.lamda_[0]) * self.actv_fncs_[-1](y[-1][0, :, :] @ self.wghts_[-1])\n",
    "        for i in range(1, self.num_lyrs_):\n",
    "            y[i][1, :, :-1] = self.lamda_[i] * y[i][0, :, :-1] + \\\n",
    "                              (1 - self.lamda_[i]) * self.actv_fncs_[i-1](y[i-1][ 1, :, :] @ self.wghts_[i-1])\n",
    "            \n",
    "        # Updating Weights: weights are updated by an amount proportional \n",
    "        # to the product of the \"presynaptic\" activity and the difference in the post-synaptic activity on the two passes\n",
    "        for i in range(len(self.wghts_)-1):\n",
    "            self.wghts_[i] += self.eps_[i] * y[i][1, :, :].T @ (y[i+1][0, :, :-1] - y[(i+1)%(self.num_lyrs_)][1, :, :-1])\n",
    "        self.wghts_[-1] += self.eps_[-1] * y[-1][0, :, :].T @ (y[0][0, :, :-1] - y[0][1, :, :-1])\n",
    "        \n",
    "        # Return reconstruction error: difference between the original and the reconstructed visible vectors\n",
    "        return 0.5 * ((inpts - y[0][1, :, :-1]) ** 2).sum()\n",
    "    \n",
    "    def inference_encode(self, inpts, lyr):\n",
    "        y = []\n",
    "        for i in self.num_nrns_:\n",
    "            y.append(np.ones((inpts.shape[0], i + 1)))       \n",
    "        y[0][:, :-1] = inpts  # input in\n",
    "        for i in range(self.num_lyrs_ -1):\n",
    "            # obtain hidden codes \n",
    "            y[(i+1)%(self.num_lyrs_)][:, :-1] = self.actv_fncs_[i](y[i][:, :] @ self.wghts_[i])          \n",
    "        # Return the hidden code for the particular layer and the reconstructed output\n",
    "        return y[lyr][:, :-1], self.actv_fncs_[-1](y[-1][:, :] @ self.wghts_[-1])\n",
    "    "
   ]
  },
  {
   "cell_type": "code",
   "execution_count": 4,
   "id": "b0eb6d8e",
   "metadata": {},
   "outputs": [],
   "source": [
    "# Defining different smooth monotonic functions with bounded derivatives as activation functions\n",
    "def tanh(x):\n",
    "    return np.tanh(x)\n",
    "\n",
    "def relu(x):\n",
    "    return np.maximum(0, x)\n",
    "\n",
    "def logistic(x):\n",
    "    return 1 / (1 + np.exp(-x))"
   ]
  },
  {
   "cell_type": "code",
   "execution_count": 17,
   "id": "632ee3a5",
   "metadata": {},
   "outputs": [],
   "source": [
    "recirculation = ReCrcl(num_nrns=[4, 2], actv_fncs=[logistic,logistic], lamda=[0.75,0.75], eps=[20,20]) # class instantiation\n",
    "\n",
    "# loading inputs\n",
    "inpts = np.array([[1, 0, 0, 0], [0, 1, 0, 0], [0, 0, 1, 0], [0, 0, 0, 1]])\n",
    "\n",
    "# obtaining reconstruction errors on the 100 simulations\n",
    "err=[]\n",
    "for i in range(100):\n",
    "    err.append(recirculation.recrcl_passes(inpts))"
   ]
  },
  {
   "cell_type": "code",
   "execution_count": 18,
   "id": "5b49910e",
   "metadata": {},
   "outputs": [],
   "source": [
    "# extract codes in the hidden and output layers\n",
    "hdn_encode, rcn_out = recirculation.inference_encode(inpts, lyr=1)"
   ]
  },
  {
   "cell_type": "code",
   "execution_count": 19,
   "id": "c464f6e7",
   "metadata": {},
   "outputs": [
    {
     "data": {
      "image/png": "[encoded data removed]",
      "text/plain": [
       "<Figure size 1224x360 with 3 Axes>"
      ]
     },
     "metadata": {
      "needs_background": "light"
     },
     "output_type": "display_data"
    }
   ],
   "source": [
    "# Visualizing the results\n",
    "fig = plt.figure(figsize=(17,5))\n",
    "fig.suptitle('Final Results for Error, Reconstruction, and Encoding')\n",
    "axes = fig.subplots(1, 3, gridspec_kw={'width_ratios': [1.5, 1,1]})\n",
    "axes[0].plot(err)\n",
    "axes[0].set_title('Error Results')\n",
    "axes[0].set_ylabel('Mean Squared Error')\n",
    "axes[0].set_xlabel('Simulation')\n",
    "axes[1].imshow(rcn_out,cmap=plt.cm.binary)\n",
    "axes[1].set_title('Reconstruction')\n",
    "axes[1].set_ylabel('Reconstructed Output')\n",
    "axes[1].set_xlabel('Bits')\n",
    "axes[1].set_xticks([0, 1, 2, 3])\n",
    "axes[1].set_yticks([0, 1, 2, 3])\n",
    "axes[2].imshow(hdn_encode,cmap=plt.cm.binary)\n",
    "axes[2].set_title('Encoding')\n",
    "axes[2].set_ylabel('Hidden Codes')\n",
    "axes[2].set_xlabel('Bits')\n",
    "axes[2].set_yticks([0, 1, 2, 3])\n",
    "axes[2].set_xticks([0, 1])\n",
    "plt.show()"
   ]
  },
  {
   "cell_type": "code",
   "execution_count": null,
   "id": "b957b030",
   "metadata": {},
   "outputs": [],
   "source": []
  },
  {
   "cell_type": "code",
   "execution_count": null,
   "id": "18283bd0",
   "metadata": {},
   "outputs": [],
   "source": []
  }
 ],
 "metadata": {
  "kernelspec": {
   "display_name": "Python 3",
   "language": "python",
   "name": "python3"
  },
  "language_info": {
   "codemirror_mode": {
    "name": "ipython",
    "version": 3
   },
   "file_extension": ".py",
   "mimetype": "text/x-python",
   "name": "python",
   "nbconvert_exporter": "python",
   "pygments_lexer": "ipython3",
   "version": "3.9.4"
  }
 },
 "nbformat": 4,
 "nbformat_minor": 5
}
